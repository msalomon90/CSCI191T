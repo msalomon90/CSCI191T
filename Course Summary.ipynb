{
 "cells": [
  {
   "cell_type": "markdown",
   "metadata": {},
   "source": [
    "## CSci 191T - Course Summary"
   ]
  },
  {
   "cell_type": "markdown",
   "metadata": {},
   "source": [
    "This course offered a lot of new content that I had previously never been introduced to before. I liked that it allowed me to not only learn concepts of machine learning but also helped me reaquaint myself with Python. Also, I am glad to have learned how to use Jupyter Notebook, which is a new tool that this course introduced. I want to add that using Kaggle was especially important to me, because it helped me understand the power of using Jupyter Notebook as well as giving me more insight upon viewing kernals and competitions available.\n",
    "\n",
    "As stated before, Machine Learning was completely new to me. Learning about how models are used and how they work was interesting. I view data differently now, and am more aware of the possible information that can be gained by datasets. I would like to continue to learn more about ML and hopefully be able to make the leaderboard on a Kaggle competition. I do feel like I still have a lot to practice and areas that need improvement, but overall I have a good foundation from where to continue improving my skill set.\n",
    "\n",
    "My goal is to take the concepts I have learned in this course and apply it in future projects/career. I think being knowledgable in machine learning will benefit me and help me become a stronger computer scientist."
   ]
  },
  {
   "cell_type": "markdown",
   "metadata": {},
   "source": [
    "### Dataset that I've been looking at to help play with data"
   ]
  },
  {
   "cell_type": "code",
   "execution_count": 501,
   "metadata": {},
   "outputs": [],
   "source": [
    "import numpy as np\n",
    "import pandas as pd\n",
    "import os\n",
    "\n",
    "import matplotlib as plt\n",
    "import matplotlib.pyplot as plt"
   ]
  },
  {
   "cell_type": "code",
   "execution_count": 502,
   "metadata": {},
   "outputs": [],
   "source": [
    "df = pd.read_csv(\"Starbucks/starbucks-menu-nutrition-drinks.csv\")"
   ]
  },
  {
   "cell_type": "markdown",
   "metadata": {},
   "source": [
    "### Data available - Drink Nutrition\n",
    "Going through data for Starbucks drinks and checking out the nutrition information. This data could be used to determine which drinks can lead to weight gain, and other types of health related results. "
   ]
  },
  {
   "cell_type": "code",
   "execution_count": 503,
   "metadata": {},
   "outputs": [
    {
     "data": {
      "text/html": [
       "<div>\n",
       "<style scoped>\n",
       "    .dataframe tbody tr th:only-of-type {\n",
       "        vertical-align: middle;\n",
       "    }\n",
       "\n",
       "    .dataframe tbody tr th {\n",
       "        vertical-align: top;\n",
       "    }\n",
       "\n",
       "    .dataframe thead th {\n",
       "        text-align: right;\n",
       "    }\n",
       "</style>\n",
       "<table border=\"1\" class=\"dataframe\">\n",
       "  <thead>\n",
       "    <tr style=\"text-align: right;\">\n",
       "      <th></th>\n",
       "      <th>Unnamed: 0</th>\n",
       "      <th>Calories</th>\n",
       "      <th>Fat (g)</th>\n",
       "      <th>Carb. (g)</th>\n",
       "      <th>Fiber (g)</th>\n",
       "      <th>Protein</th>\n",
       "      <th>Sodium</th>\n",
       "    </tr>\n",
       "  </thead>\n",
       "  <tbody>\n",
       "    <tr>\n",
       "      <th>0</th>\n",
       "      <td>Cool Lime Starbucks Refreshers™ Beverage</td>\n",
       "      <td>45</td>\n",
       "      <td>0</td>\n",
       "      <td>11</td>\n",
       "      <td>0</td>\n",
       "      <td>0</td>\n",
       "      <td>10</td>\n",
       "    </tr>\n",
       "    <tr>\n",
       "      <th>1</th>\n",
       "      <td>Ombré Pink Drink</td>\n",
       "      <td>-</td>\n",
       "      <td>-</td>\n",
       "      <td>-</td>\n",
       "      <td>-</td>\n",
       "      <td>-</td>\n",
       "      <td>-</td>\n",
       "    </tr>\n",
       "    <tr>\n",
       "      <th>2</th>\n",
       "      <td>Pink Drink</td>\n",
       "      <td>-</td>\n",
       "      <td>-</td>\n",
       "      <td>-</td>\n",
       "      <td>-</td>\n",
       "      <td>-</td>\n",
       "      <td>-</td>\n",
       "    </tr>\n",
       "    <tr>\n",
       "      <th>3</th>\n",
       "      <td>Strawberry Acai Starbucks Refreshers™ Beverage</td>\n",
       "      <td>80</td>\n",
       "      <td>0</td>\n",
       "      <td>18</td>\n",
       "      <td>1</td>\n",
       "      <td>0</td>\n",
       "      <td>10</td>\n",
       "    </tr>\n",
       "    <tr>\n",
       "      <th>4</th>\n",
       "      <td>Very Berry Hibiscus Starbucks Refreshers™ Beve...</td>\n",
       "      <td>60</td>\n",
       "      <td>0</td>\n",
       "      <td>14</td>\n",
       "      <td>1</td>\n",
       "      <td>0</td>\n",
       "      <td>10</td>\n",
       "    </tr>\n",
       "    <tr>\n",
       "      <th>5</th>\n",
       "      <td>Violet Drink</td>\n",
       "      <td>-</td>\n",
       "      <td>-</td>\n",
       "      <td>-</td>\n",
       "      <td>-</td>\n",
       "      <td>-</td>\n",
       "      <td>-</td>\n",
       "    </tr>\n",
       "    <tr>\n",
       "      <th>6</th>\n",
       "      <td>Evolution Fresh™ Cold-Pressed Apple Berry Juice</td>\n",
       "      <td>-</td>\n",
       "      <td>-</td>\n",
       "      <td>-</td>\n",
       "      <td>-</td>\n",
       "      <td>-</td>\n",
       "      <td>-</td>\n",
       "    </tr>\n",
       "    <tr>\n",
       "      <th>7</th>\n",
       "      <td>Evolution Fresh™ Defense Up</td>\n",
       "      <td>-</td>\n",
       "      <td>-</td>\n",
       "      <td>-</td>\n",
       "      <td>-</td>\n",
       "      <td>-</td>\n",
       "      <td>-</td>\n",
       "    </tr>\n",
       "    <tr>\n",
       "      <th>8</th>\n",
       "      <td>Evolution Fresh™ Organic Ginger Limeade</td>\n",
       "      <td>110</td>\n",
       "      <td>0</td>\n",
       "      <td>28</td>\n",
       "      <td>0</td>\n",
       "      <td>0</td>\n",
       "      <td>5</td>\n",
       "    </tr>\n",
       "    <tr>\n",
       "      <th>9</th>\n",
       "      <td>Iced Coffee</td>\n",
       "      <td>0</td>\n",
       "      <td>0</td>\n",
       "      <td>0</td>\n",
       "      <td>0</td>\n",
       "      <td>0</td>\n",
       "      <td>0</td>\n",
       "    </tr>\n",
       "    <tr>\n",
       "      <th>10</th>\n",
       "      <td>Iced Coffee with Milk</td>\n",
       "      <td>-</td>\n",
       "      <td>-</td>\n",
       "      <td>-</td>\n",
       "      <td>-</td>\n",
       "      <td>-</td>\n",
       "      <td>-</td>\n",
       "    </tr>\n",
       "    <tr>\n",
       "      <th>11</th>\n",
       "      <td>Iced Espresso Classics - Vanilla Latte</td>\n",
       "      <td>130</td>\n",
       "      <td>2.5</td>\n",
       "      <td>21</td>\n",
       "      <td>0</td>\n",
       "      <td>5</td>\n",
       "      <td>65</td>\n",
       "    </tr>\n",
       "    <tr>\n",
       "      <th>12</th>\n",
       "      <td>Iced Espresso Classics - Caffe Mocha</td>\n",
       "      <td>140</td>\n",
       "      <td>2.5</td>\n",
       "      <td>23</td>\n",
       "      <td>0</td>\n",
       "      <td>5</td>\n",
       "      <td>90</td>\n",
       "    </tr>\n",
       "    <tr>\n",
       "      <th>13</th>\n",
       "      <td>Iced Espresso Classics - Caramel Macchiato</td>\n",
       "      <td>130</td>\n",
       "      <td>2.5</td>\n",
       "      <td>21</td>\n",
       "      <td>0</td>\n",
       "      <td>5</td>\n",
       "      <td>65</td>\n",
       "    </tr>\n",
       "    <tr>\n",
       "      <th>14</th>\n",
       "      <td>Starbucks® Caramel Iced Coffee</td>\n",
       "      <td>-</td>\n",
       "      <td>-</td>\n",
       "      <td>-</td>\n",
       "      <td>-</td>\n",
       "      <td>-</td>\n",
       "      <td>-</td>\n",
       "    </tr>\n",
       "    <tr>\n",
       "      <th>15</th>\n",
       "      <td>Starbucks® Iced Coffee + Milk</td>\n",
       "      <td>-</td>\n",
       "      <td>-</td>\n",
       "      <td>-</td>\n",
       "      <td>-</td>\n",
       "      <td>-</td>\n",
       "      <td>-</td>\n",
       "    </tr>\n",
       "    <tr>\n",
       "      <th>16</th>\n",
       "      <td>Starbucks® Low Calorie Iced Coffee + Milk</td>\n",
       "      <td>-</td>\n",
       "      <td>-</td>\n",
       "      <td>-</td>\n",
       "      <td>-</td>\n",
       "      <td>-</td>\n",
       "      <td>-</td>\n",
       "    </tr>\n",
       "    <tr>\n",
       "      <th>17</th>\n",
       "      <td>Starbucks® Vanilla Iced Coffee</td>\n",
       "      <td>-</td>\n",
       "      <td>-</td>\n",
       "      <td>-</td>\n",
       "      <td>-</td>\n",
       "      <td>-</td>\n",
       "      <td>-</td>\n",
       "    </tr>\n",
       "    <tr>\n",
       "      <th>18</th>\n",
       "      <td>Shaken Sweet Tea</td>\n",
       "      <td>80</td>\n",
       "      <td>0</td>\n",
       "      <td>19</td>\n",
       "      <td>0</td>\n",
       "      <td>0</td>\n",
       "      <td>10</td>\n",
       "    </tr>\n",
       "    <tr>\n",
       "      <th>19</th>\n",
       "      <td>Tazo® Bottled Berry Blossom White</td>\n",
       "      <td>60</td>\n",
       "      <td>0</td>\n",
       "      <td>15</td>\n",
       "      <td>0</td>\n",
       "      <td>0</td>\n",
       "      <td>10</td>\n",
       "    </tr>\n",
       "  </tbody>\n",
       "</table>\n",
       "</div>"
      ],
      "text/plain": [
       "                                           Unnamed: 0 Calories Fat (g)  \\\n",
       "0            Cool Lime Starbucks Refreshers™ Beverage       45       0   \n",
       "1                                    Ombré Pink Drink        -       -   \n",
       "2                                          Pink Drink        -       -   \n",
       "3      Strawberry Acai Starbucks Refreshers™ Beverage       80       0   \n",
       "4   Very Berry Hibiscus Starbucks Refreshers™ Beve...       60       0   \n",
       "5                                        Violet Drink        -       -   \n",
       "6     Evolution Fresh™ Cold-Pressed Apple Berry Juice        -       -   \n",
       "7                         Evolution Fresh™ Defense Up        -       -   \n",
       "8             Evolution Fresh™ Organic Ginger Limeade      110       0   \n",
       "9                                         Iced Coffee        0       0   \n",
       "10                              Iced Coffee with Milk        -       -   \n",
       "11             Iced Espresso Classics - Vanilla Latte      130     2.5   \n",
       "12               Iced Espresso Classics - Caffe Mocha      140     2.5   \n",
       "13         Iced Espresso Classics - Caramel Macchiato      130     2.5   \n",
       "14                     Starbucks® Caramel Iced Coffee        -       -   \n",
       "15                      Starbucks® Iced Coffee + Milk        -       -   \n",
       "16          Starbucks® Low Calorie Iced Coffee + Milk        -       -   \n",
       "17                     Starbucks® Vanilla Iced Coffee        -       -   \n",
       "18                                   Shaken Sweet Tea       80       0   \n",
       "19                  Tazo® Bottled Berry Blossom White       60       0   \n",
       "\n",
       "   Carb. (g) Fiber (g) Protein Sodium  \n",
       "0         11         0       0     10  \n",
       "1          -         -       -      -  \n",
       "2          -         -       -      -  \n",
       "3         18         1       0     10  \n",
       "4         14         1       0     10  \n",
       "5          -         -       -      -  \n",
       "6          -         -       -      -  \n",
       "7          -         -       -      -  \n",
       "8         28         0       0      5  \n",
       "9          0         0       0      0  \n",
       "10         -         -       -      -  \n",
       "11        21         0       5     65  \n",
       "12        23         0       5     90  \n",
       "13        21         0       5     65  \n",
       "14         -         -       -      -  \n",
       "15         -         -       -      -  \n",
       "16         -         -       -      -  \n",
       "17         -         -       -      -  \n",
       "18        19         0       0     10  \n",
       "19        15         0       0     10  "
      ]
     },
     "execution_count": 503,
     "metadata": {},
     "output_type": "execute_result"
    }
   ],
   "source": [
    "df.head(20)"
   ]
  },
  {
   "cell_type": "markdown",
   "metadata": {},
   "source": [
    "### Looking at the columns available in the dataset"
   ]
  },
  {
   "cell_type": "code",
   "execution_count": 504,
   "metadata": {},
   "outputs": [
    {
     "name": "stdout",
     "output_type": "stream",
     "text": [
      "<class 'pandas.core.frame.DataFrame'>\n",
      "RangeIndex: 177 entries, 0 to 176\n",
      "Data columns (total 7 columns):\n",
      "Unnamed: 0    177 non-null object\n",
      "Calories      177 non-null object\n",
      "Fat (g)       177 non-null object\n",
      "Carb. (g)     177 non-null object\n",
      "Fiber (g)     177 non-null object\n",
      "Protein       177 non-null object\n",
      "Sodium        177 non-null object\n",
      "dtypes: object(7)\n",
      "memory usage: 9.8+ KB\n"
     ]
    }
   ],
   "source": [
    "df.info()"
   ]
  },
  {
   "cell_type": "markdown",
   "metadata": {},
   "source": [
    "### More specifically"
   ]
  },
  {
   "cell_type": "code",
   "execution_count": 505,
   "metadata": {},
   "outputs": [
    {
     "data": {
      "text/plain": [
       "['Unnamed: 0',\n",
       " 'Calories',\n",
       " 'Fat (g)',\n",
       " 'Carb. (g)',\n",
       " 'Fiber (g)',\n",
       " 'Protein',\n",
       " 'Sodium']"
      ]
     },
     "execution_count": 505,
     "metadata": {},
     "output_type": "execute_result"
    }
   ],
   "source": [
    "list(df)"
   ]
  },
  {
   "cell_type": "code",
   "execution_count": 506,
   "metadata": {},
   "outputs": [
    {
     "data": {
      "text/plain": [
       "<matplotlib.collections.PathCollection at 0x112cdf630>"
      ]
     },
     "execution_count": 506,
     "metadata": {},
     "output_type": "execute_result"
    },
    {
     "data": {
      "image/png": "[encoded data removed]",
      "text/plain": [
       "<Figure size 432x288 with 1 Axes>"
      ]
     },
     "metadata": {},
     "output_type": "display_data"
    }
   ],
   "source": [
    "import operator\n",
    "\n",
    "df_drink = {}\n",
    "for drink in range(0,25):\n",
    "    if df['Calories'][drink].isdigit():   \n",
    "        df_drink[df.loc[drink][0]] = df['Calories'][drink]        \n",
    "\n",
    "df_drink = sorted(df_drink.items(), key=operator.itemgetter(1))\n",
    "name, calorie = zip(*df_drink)\n",
    "plt.scatter(calorie, name)"
   ]
  },
  {
   "cell_type": "code",
   "execution_count": 507,
   "metadata": {},
   "outputs": [
    {
     "data": {
      "text/plain": [
       "<matplotlib.axes._subplots.AxesSubplot at 0x112cce8d0>"
      ]
     },
     "execution_count": 507,
     "metadata": {},
     "output_type": "execute_result"
    },
    {
     "data": {
      "image/png": "[encoded data removed]",
      "text/plain": [
       "<Figure size 432x288 with 1 Axes>"
      ]
     },
     "metadata": {},
     "output_type": "display_data"
    }
   ],
   "source": [
    "df['Calories'].value_counts().head(20).plot.hist() "
   ]
  },
  {
   "cell_type": "code",
   "execution_count": 524,
   "metadata": {},
   "outputs": [
    {
     "data": {
      "text/plain": [
       "0    11\n",
       "1     -\n",
       "2     -\n",
       "3    18\n",
       "4    14\n",
       "5     -\n",
       "6     -\n",
       "7     -\n",
       "8    28\n",
       "9     0\n",
       "Name: Carb. (g), dtype: object"
      ]
     },
     "execution_count": 524,
     "metadata": {},
     "output_type": "execute_result"
    }
   ],
   "source": [
    "carbs = df['Carb. (g)']\n",
    "carbs.head(10)"
   ]
  },
  {
   "cell_type": "markdown",
   "metadata": {},
   "source": [
    "## I have also been looking into this dataset <br>\n",
    "<a src=\"https://www.kaggle.com/ardamavi/sign-language-digits-dataset\"><b>Sign Language Digits Dataset</b></a><br><br>\n",
    "A friend of mine is deaf, and I find this very interesting. While these are only digits, it would be cool to see a dataset that had more signs in addition to digits. Below is an illustration from a kernal that I found helpful. Sometimes kernels can get complex, and I find that images help with different learning styles. The illustration shows a computational graph of logistic regression. The notebook goes in depth using Neural Networks as well as using the Keras library"
   ]
  },
  {
   "cell_type": "markdown",
   "metadata": {},
   "source": [
    "<img src='http://preview.ibb.co/cxP63H/5.jpg'>"
   ]
  },
  {
   "cell_type": "markdown",
   "metadata": {},
   "source": [
    "## Last Thoughts\n",
    "Overall I enjoyed learning about Classifiers, Regression, Supervised/unsupervised Learning, Neural Networks, Decision Trees etc. I feel I still have a lot to learn and I am looking forward to having more time this summer to dive deeper into the world of Machine Learning!"
   ]
  },
  {
   "cell_type": "code",
   "execution_count": null,
   "metadata": {},
   "outputs": [],
   "source": []
  }
 ],
 "metadata": {
  "kernelspec": {
   "display_name": "Python 3",
   "language": "python",
   "name": "python3"
  },
  "language_info": {
   "codemirror_mode": {
    "name": "ipython",
    "version": 3
   },
   "file_extension": ".py",
   "mimetype": "text/x-python",
   "name": "python",
   "nbconvert_exporter": "python",
   "pygments_lexer": "ipython3",
   "version": "3.6.5"
  }
 },
 "nbformat": 4,
 "nbformat_minor": 2
}
